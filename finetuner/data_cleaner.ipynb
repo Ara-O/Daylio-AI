{
 "cells": [
  {
   "cell_type": "code",
   "execution_count": 1,
   "metadata": {},
   "outputs": [],
   "source": [
    "import pandas as pd\n",
    "from deep_translator import GoogleTranslator\n",
    "from dotenv import load_dotenv\n",
    "import os"
   ]
  },
  {
   "cell_type": "code",
   "execution_count": 4,
   "metadata": {},
   "outputs": [
    {
     "name": "stdout",
     "output_type": "stream",
     "text": [
      "Entries are stored in /home/ara/Downloads/entries.csv\n"
     ]
    }
   ],
   "source": [
    "load_dotenv()\n",
    "\n",
    "CSV_PATH = os.getenv(\"ENTRIES_PATH\")\n",
    "\n",
    "print(f\"Entries are stored in {CSV_PATH}\")"
   ]
  },
  {
   "cell_type": "markdown",
   "metadata": {},
   "source": [
    "Translate Entries to English"
   ]
  },
  {
   "cell_type": "code",
   "execution_count": 22,
   "metadata": {},
   "outputs": [],
   "source": [
    "translator = GoogleTranslator(source='auto', target='en')\n",
    "\n",
    "def translate_note(note):\n",
    "    # Check if note is a string\n",
    "    if not isinstance(note, str):\n",
    "        return note\n",
    "\n",
    "    # Define a max length to split notes\n",
    "    max_length = 4999\n",
    "\n",
    "    # If note is longer than max_length, split and translate\n",
    "    if len(note) > max_length:\n",
    "        components = [note[i:i + max_length] for i in range(0, len(note), max_length)]\n",
    "        translated_components = []\n",
    "\n",
    "        for part in components:\n",
    "            try:\n",
    "                translated_part = translator.translate(part)\n",
    "                translated_components.append(translated_part)\n",
    "            except Exception as e:\n",
    "                print(f\"Error translating part: {part} - {e}\")\n",
    "                translated_components.append(part)\n",
    "\n",
    "        # Combine translated components\n",
    "        return \" \".join(translated_components)\n",
    "\n",
    "    # If the note is less than max_length, just translate it directly\n",
    "    try:\n",
    "        return translator.translate(note)\n",
    "    except Exception as e:\n",
    "        print(f\"Error translating note: {note} - {e}\")\n",
    "        return note"
   ]
  },
  {
   "cell_type": "code",
   "execution_count": 23,
   "metadata": {},
   "outputs": [],
   "source": [
    "entries = pd.read_csv(CSV_PATH)\n",
    "entries.fillna(\"\", inplace=True)"
   ]
  },
  {
   "cell_type": "code",
   "execution_count": 24,
   "metadata": {},
   "outputs": [],
   "source": [
    "entries.drop(\"note_title\", axis=1)\n",
    "entries['note'] = entries['note'].apply(translate_note)"
   ]
  },
  {
   "cell_type": "code",
   "execution_count": 27,
   "metadata": {},
   "outputs": [],
   "source": [
    "entries.to_csv(\"processed.csv\", index=None)"
   ]
  }
 ],
 "metadata": {
  "kernelspec": {
   "display_name": ".venv",
   "language": "python",
   "name": "python3"
  },
  "language_info": {
   "codemirror_mode": {
    "name": "ipython",
    "version": 3
   },
   "file_extension": ".py",
   "mimetype": "text/x-python",
   "name": "python",
   "nbconvert_exporter": "python",
   "pygments_lexer": "ipython3",
   "version": "3.12.3"
  }
 },
 "nbformat": 4,
 "nbformat_minor": 2
}
