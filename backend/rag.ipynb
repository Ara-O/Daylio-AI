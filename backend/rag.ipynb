{
 "cells": [
  {
   "cell_type": "code",
   "execution_count": null,
   "metadata": {},
   "outputs": [],
   "source": [
    "%pip install -qU langchain langchain_community\n",
    "\n",
    "# Local vector store via Chroma\n",
    "%pip install -qU langchain_chroma\n",
    "\n",
    "# Local inference and embeddings via Ollama\n",
    "%pip install -qU langchain_ollama\n",
    "\n",
    "# Web Loader\n",
    "%pip install -qU beautifulsoup4"
   ]
  },
  {
   "cell_type": "code",
   "execution_count": 1,
   "metadata": {},
   "outputs": [],
   "source": [
    "from langchain_text_splitters import RecursiveCharacterTextSplitter\n",
    "\n",
    "text_splitter = RecursiveCharacterTextSplitter(chunk_size=512, chunk_overlap=20)"
   ]
  },
  {
   "cell_type": "markdown",
   "metadata": {},
   "source": [
    "Compile data together"
   ]
  },
  {
   "cell_type": "code",
   "execution_count": 2,
   "metadata": {},
   "outputs": [],
   "source": [
    "import pandas as pd\n",
    "\n",
    "entries = pd.read_csv(\"processed.csv\")"
   ]
  },
  {
   "cell_type": "code",
   "execution_count": 3,
   "metadata": {},
   "outputs": [],
   "source": [
    "notes_compiled = \"\"\n",
    "\n",
    "\n",
    "#full_date,date,weekday,time,mood,activities,note_title,note\n",
    "\n",
    "for idx, entry in entries.iterrows():\n",
    "    notes_compiled += f\"\"\"\n",
    "    { str(entry['note']) if str(entry['note']) != \"nan\" else \"\"}\n",
    "    \"\"\"\n",
    "    "
   ]
  },
  {
   "cell_type": "code",
   "execution_count": 4,
   "metadata": {},
   "outputs": [],
   "source": [
    "pip install langchain\n",
    "notes_compiled = notes_compiled.replace(\"<br>\", \".\")\n",
    "notes_compiled = notes_compiled.replace(\"</br>\", \".\")\n",
    "\n",
    "notes_compiled = notes_compiled.replace(\"<b>\", \".\")\n",
    "notes_compiled = notes_compiled.replace(\"</b>\", \".\")\n"
   ]
  },
  {
   "cell_type": "code",
   "execution_count": 5,
   "metadata": {},
   "outputs": [],
   "source": [
    "with open(\"Output.txt\", \"w\") as text_file:\n",
    "    text_file.write(notes_compiled)"
   ]
  },
  {
   "cell_type": "code",
   "execution_count": 6,
   "metadata": {},
   "outputs": [],
   "source": [
    "all_splits = text_splitter.split_text(notes_compiled)"
   ]
  },
  {
   "cell_type": "code",
   "execution_count": 7,
   "metadata": {},
   "outputs": [
    {
     "data": {
      "text/plain": [
       "4622"
      ]
     },
     "execution_count": 7,
     "metadata": {},
     "output_type": "execute_result"
    }
   ],
   "source": [
    "len(all_splits)"
   ]
  },
  {
   "cell_type": "code",
   "execution_count": 8,
   "metadata": {},
   "outputs": [],
   "source": [
    "from langchain_chroma import Chroma\n",
    "from langchain_ollama import OllamaEmbeddings\n",
    "\n",
    "local_embeddings = OllamaEmbeddings(model=\"nomic-embed-text\")\n",
    "\n",
    "vectorstore = Chroma.from_texts(texts=all_splits, embedding=local_embeddings)"
   ]
  },
  {
   "cell_type": "code",
   "execution_count": 9,
   "metadata": {},
   "outputs": [
    {
     "name": "stdout",
     "output_type": "stream",
     "text": [
      "25\n",
      "page_content='We are currently in quiet time and I wanted to use this opportunity to reflect on who I am and the things I struggle with...My name is Eyiaraoluwa oladipo and I am 19 years old. ..My values ..I am finding it hard to pinpoint my values but part of me is also wondering whether this is the best use of my time, but in order to have fruitful relationships with other people, I need to have and know my values, and it can help me understand better why I act the way I do..One thing I value is dependability, and'\n"
     ]
    }
   ],
   "source": [
    "question = \"who am i as a person and what do i value?\"\n",
    "docs = vectorstore.similarity_search(question, k=25)\n",
    "print(len(docs))\n",
    "print(docs[0])"
   ]
  },
  {
   "cell_type": "code",
   "execution_count": 10,
   "metadata": {},
   "outputs": [],
   "source": [
    "from langchain_ollama import ChatOllama\n",
    "\n",
    "model = ChatOllama(\n",
    "    model=\"llama3.1:8b\",\n",
    ")"
   ]
  },
  {
   "cell_type": "code",
   "execution_count": null,
   "metadata": {},
   "outputs": [
    {
     "data": {
      "text/markdown": [
       "There are 2 letter Rs in the word \"strawberry\"."
      ],
      "text/plain": [
       "<IPython.core.display.Markdown object>"
      ]
     },
     "metadata": {},
     "output_type": "display_data"
    }
   ],
   "source": [
    "from IPython.display import Markdown, display\n",
    "\n",
    "response_message = model.invoke(\n",
    "    \"how many letter rs are in strawberry\"\n",
    ")\n",
    "\n",
    "# Compile the output to markdown\n",
    "markdown_output =response_message.content\n",
    "\n",
    "# Print or display the markdown output\n",
    "display(Markdown(markdown_output))"
   ]
  },
  {
   "cell_type": "code",
   "execution_count": 25,
   "metadata": {},
   "outputs": [],
   "source": [
    "# Handles the memory of the conversation history\n",
    "class ChatMemory:\n",
    "    def __init__(self):\n",
    "        self.history = []\n",
    "        \n",
    "    #Add a new exchange (user question and assistant answer) to memory.\n",
    "    def add_to_memory(self, user_input, assistant_output):\n",
    "        self.history.append(f\"User: {user_input}\")\n",
    "        self.history.append(f\"Assistant: {assistant_output}\")\n",
    "        \n",
    "    def get_context(self):\n",
    "        # Return the full context (conversation history) as a single string\n",
    "        return \"\\n\".join(self.history)\n",
    "    \n",
    "    def clear_context(self):\n",
    "        self.history = []\n",
    "\n"
   ]
  },
  {
   "cell_type": "code",
   "execution_count": 47,
   "metadata": {},
   "outputs": [],
   "source": [
    "from langchain_core.runnables import RunnablePassthrough, RunnableLambda\n",
    "from langchain_core.output_parsers import StrOutputParser\n",
    "from langchain_core.prompts import ChatPromptTemplate\n",
    "\n",
    "def format_docs(docs):\n",
    "    return \"\\n\\n\".join(doc.page_content for doc in docs)\n",
    "\n",
    "RAG_TEMPLATE = \"\"\"\n",
    "You are a helpful assistant who keeps track of all past exchanges. Here is your conversation history\n",
    "<Conversation History>\n",
    "{history}\n",
    "</Conversation History>\n",
    "\n",
    "Use the following pieces of retrieved context to answer the question. If you don't know the answer, just say that you don't know. These are some entries at different dates that give insight into your state of mind, memories and moods. Use direct references when necessary\n",
    "Be as specific and thorough as possible and prioritize conversation history when possible to be able to gain more context and quote the conversation history context when applicable\n",
    "<context>\n",
    "{context}\n",
    "</context>\n",
    "\n",
    "Answer the following question:\n",
    "\n",
    "{question}\"\"\"\n",
    "\n",
    "rag_prompt = ChatPromptTemplate.from_template(RAG_TEMPLATE)\n",
    "\n",
    "chat_memory = ChatMemory()\n",
    "\n",
    "chain = (\n",
    "    RunnablePassthrough.assign(context=lambda input: format_docs(input[\"context\"]))\n",
    "    | rag_prompt\n",
    "    # | RunnableLambda(lambda formatted_prompt: print(f\"Formatted Prompt:\\n{formatted_prompt}\") or formatted_prompt)\n",
    "    | model\n",
    "    | StrOutputParser()\n",
    ")\n"
   ]
  },
  {
   "cell_type": "code",
   "execution_count": 20,
   "metadata": {},
   "outputs": [],
   "source": [
    "def ask_question(question):\n",
    "    context = chat_memory.get_context()\n",
    "    \n",
    "    # Get documents related to the current question\n",
    "    docs = vectorstore.similarity_search(question, k=25)\n",
    "    \n",
    "    markdown_output = chain.invoke({\"history\": context, \"context\": docs, \"question\": question})\n",
    "    \n",
    "    # Add to the chat memory\n",
    "    chat_memory.add_to_memory(question, markdown_output)\n",
    "    \n",
    "    # Return the response\n",
    "    return markdown_output\n"
   ]
  },
  {
   "cell_type": "code",
   "execution_count": 48,
   "metadata": {},
   "outputs": [
    {
     "name": "stdout",
     "output_type": "stream",
     "text": [
      "----------------\n",
      "\n",
      "----------------\n"
     ]
    },
    {
     "data": {
      "text/markdown": [
       "It appears so. There are several mentions throughout your entries about losing interest in certain activities or not having as much time for them. For example:\n",
       "\n",
       "* You mention not reading as many books as before, and not using your Kindle as much.\n",
       "* You also mention that you used to play games like NCAA cyber games and chess more regularly.\n",
       "* Additionally, there's a mention of wanting to ripen out your anime site and work on a grading site, which suggests that you've had hobbies or projects that you're interested in but haven't had time for.\n",
       "\n",
       "However, it's worth noting that you also have entries about getting back into activities like playing Beat Saber and chess, and trying new recipes. So, while it seems like some hobbies may have fallen by the wayside, you still seem to be enthusiastic about certain activities and willing to pick up old ones again."
      ],
      "text/plain": [
       "<IPython.core.display.Markdown object>"
      ]
     },
     "metadata": {},
     "output_type": "display_data"
    }
   ],
   "source": [
    "chat_memory.clear_context()\n",
    "\n",
    "print(\"----------------\")\n",
    "print(chat_memory.get_context())\n",
    "print(\"----------------\")\n",
    "\n",
    "question = \"have i lost some of my hobbies over time?\"\n",
    "response = ask_question(question)\n",
    "\n",
    "display(Markdown(response))\n",
    "\n",
    "# print(\"----------------\")\n",
    "# print(chat_memory.get_context())\n",
    "# print(\"----------------\")\n",
    "\n",
    "# follow_up_question = \"can you tell me more about my concerns with him?\"\n",
    "\n",
    "# follow_up_response = ask_question(follow_up_question)\n",
    "# display(Markdown(follow_up_response))\n",
    "\n",
    "# print(\"----------------\")\n",
    "# print(chat_memory.get_context())\n",
    "# print(\"----------------\")\n",
    "\n",
    "\n",
    "# # You can continue the conversation with more questions\n",
    "# another_question = \"How can I work on these feelings to be closer with him?\"\n",
    "# another_response = ask_question(another_question)\n",
    "# display(Markdown(another_response))\n",
    "\n",
    "# print(\"----------------\")\n",
    "# print(chat_memory.get_context())\n",
    "# print(\"----------------\")\n"
   ]
  },
  {
   "cell_type": "code",
   "execution_count": 50,
   "metadata": {},
   "outputs": [
    {
     "name": "stdout",
     "output_type": "stream",
     "text": [
      "----------------\n",
      "User: have i lost some of my hobbies over time?\n",
      "Assistant: It appears so. There are several mentions throughout your entries about losing interest in certain activities or not having as much time for them. For example:\n",
      "\n",
      "* You mention not reading as many books as before, and not using your Kindle as much.\n",
      "* You also mention that you used to play games like NCAA cyber games and chess more regularly.\n",
      "* Additionally, there's a mention of wanting to ripen out your anime site and work on a grading site, which suggests that you've had hobbies or projects that you're interested in but haven't had time for.\n",
      "\n",
      "However, it's worth noting that you also have entries about getting back into activities like playing Beat Saber and chess, and trying new recipes. So, while it seems like some hobbies may have fallen by the wayside, you still seem to be enthusiastic about certain activities and willing to pick up old ones again.\n",
      "User: how can i work to get them back?\n",
      "Assistant: You're referring to your past accomplishments and feelings of self-worth. Based on your previous messages, it seems like you've been struggling with feeling stuck and uncertain about your future.\n",
      "\n",
      "To work towards getting your confidence and motivation back, consider the following suggestions:\n",
      "\n",
      "1. **Reflect on past successes**: Think about what you were proud of accomplishing in the past (e.g., completing a project, improving your skills, or achieving personal goals). Reflecting on these accomplishments can help boost your self-confidence.\n",
      "2. **Set new, achievable goals**: Break down larger goals into smaller, manageable tasks. Celebrate each success along the way to build momentum and motivation.\n",
      "3. **Focus on progress, not perfection**: Instead of striving for perfection, acknowledge that it's okay to make mistakes and learn from them. Focus on making consistent progress towards your goals.\n",
      "4. **Practice self-care and self-compassion**: Treat yourself with kindness and understanding, just as you would a close friend. Engage in activities that bring you joy and help you relax (e.g., playing games, exercising, or spending time in nature).\n",
      "5. **Seek support from others**: Reach out to friends, family, or mentors who can offer guidance, encouragement, and accountability.\n",
      "6. **Take care of your physical health**: Regular exercise, healthy eating, and sufficient sleep can significantly impact your mood and energy levels.\n",
      "7. **Reconnect with activities that brought you joy**: Engage in hobbies or passions that made you feel happy and fulfilled in the past.\n",
      "\n",
      "Remember, it's a process to regain confidence and motivation. Be patient, kind, and compassionate with yourself as you work towards getting back on track.\n",
      "----------------\n"
     ]
    },
    {
     "data": {
      "text/markdown": [
       "It seems like you've been struggling to maintain various hobbies and interests over time. To help you get back into them, consider the following steps:\n",
       "\n",
       "1.  **Reflect on your past experiences**: Think about what made you enjoy those hobbies initially. Was it the sense of accomplishment, the thrill of learning something new, or the social aspect? Understanding why you enjoyed these activities in the first place can help you revive the passion.\n",
       "2.  **Set realistic goals and schedule**: Life gets busy, but setting aside dedicated time for your hobbies can make a big difference. Start with small, achievable goals, like committing to practice or work on a hobby-related project for 30 minutes each day or an hour a week.\n",
       "3.  **Find ways to incorporate them into daily life**: Think about how you can integrate your hobbies into your daily routine. For example, if you want to start gardening again, try setting aside time each morning to water plants or check on your garden.\n",
       "4.  **Create accountability and community**: Share your goals with a friend or family member and ask them to hold you accountable. You can also join online communities or forums related to your hobbies to connect with others who share similar interests.\n",
       "5.  **Focus on progress, not perfection**: It's normal to feel discouraged when you haven't made as much progress as you'd like. Remember that every small step forward is a success, and don't be too hard on yourself if you encounter setbacks.\n",
       "6.  **Celebrate milestones and achievements**: Acknowledge and celebrate your accomplishments along the way. This will help motivate you to continue working towards your goals.\n",
       "\n",
       "It may take time to get back into the swing of things, but with persistence and dedication, you can rekindle your passion for these hobbies."
      ],
      "text/plain": [
       "<IPython.core.display.Markdown object>"
      ]
     },
     "metadata": {},
     "output_type": "display_data"
    }
   ],
   "source": [
    "\n",
    "print(\"----------------\")\n",
    "print(chat_memory.get_context())\n",
    "print(\"----------------\")\n",
    "\n",
    "question = \"how can i work to get these hobbies back?\"\n",
    "response = ask_question(question)\n",
    "\n",
    "display(Markdown(response))"
   ]
  }
 ],
 "metadata": {
  "kernelspec": {
   "display_name": ".venv",
   "language": "python",
   "name": "python3"
  },
  "language_info": {
   "codemirror_mode": {
    "name": "ipython",
    "version": 3
   },
   "file_extension": ".py",
   "mimetype": "text/x-python",
   "name": "python",
   "nbconvert_exporter": "python",
   "pygments_lexer": "ipython3",
   "version": "3.12.3"
  }
 },
 "nbformat": 4,
 "nbformat_minor": 2
}
